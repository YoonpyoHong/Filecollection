{
 "cells": [
  {
   "cell_type": "code",
   "execution_count": 31,
   "id": "88e5c373",
   "metadata": {},
   "outputs": [
    {
     "name": "stdout",
     "output_type": "stream",
     "text": [
      "(1,2)\n",
      "(3,4)\n",
      "(4,6)\n"
     ]
    }
   ],
   "source": [
    "class Point:\n",
    "    x = 0\n",
    "    y = 0\n",
    "    def __init__(self, x, y):\n",
    "        self.x = x\n",
    "        self.y = y\n",
    "    def show(self):\n",
    "        print('('+str(self.x)+','+str(self.y)+')')\n",
    "    def __add__(self,other):\n",
    "        new_x = self.x + other.x \n",
    "        new_y = self.y + other.y\n",
    "        return Point(new_x,new_y)\n",
    "\n",
    "a = Point(1,2)\n",
    "a.show()\n",
    "\n",
    "b =Point(3,4)\n",
    "b.show()\n",
    "\n",
    "a = a+b\n",
    "a.show()"
   ]
  },
  {
   "cell_type": "code",
   "execution_count": 59,
   "id": "e8824b96",
   "metadata": {},
   "outputs": [
    {
     "name": "stdout",
     "output_type": "stream",
     "text": [
      "Max Week = 05/08~05/14\n"
     ]
    }
   ],
   "source": [
    "import csv\n",
    "f = open('seoul.csv')\n",
    "data = csv.reader(f)\n",
    "header = next(data)\n",
    "\n",
    "diff = 0\n",
    "diff_date = ''\n",
    "date = ''\n",
    "i = 0\n",
    "for row in data:\n",
    "    i += 1\n",
    "    temp_diff = 0\n",
    "    \n",
    "    temp_diff += float(row[4]) - float(row[3])\n",
    "    if i == 1:\n",
    "        date = row[0]\n",
    "        \n",
    "        \n",
    "    if i == 7:\n",
    "        if temp_diff> diff:\n",
    "            diff = temp_diff\n",
    "            diff_date = date\n",
    "            \n",
    "        i = 0\n",
    "    \n",
    "last =int(diff_date.split('-')[2]) + 6\n",
    "print('Max Week = '+diff_date.split('-')[1]+'/'+diff_date.split('-')[2]+'~'+diff_date.split('-')[1]+'/'+str(last))"
   ]
  },
  {
   "cell_type": "code",
   "execution_count": 66,
   "id": "770f36b1",
   "metadata": {},
   "outputs": [
    {
     "data": {
      "image/png": "[encoded data removed]",
      "text/plain": [
       "<Figure size 432x288 with 1 Axes>"
      ]
     },
     "metadata": {
      "needs_background": "light"
     },
     "output_type": "display_data"
    }
   ],
   "source": [
    "import numpy as np\n",
    "import matplotlib.pyplot as plt\n",
    "\n",
    "docs =[[0 for _ in range(6)] for _ in range (3)]\n",
    "docs[0] = [1,1,0,1,0,1]\n",
    "docs[1] = [1,1,1,0,1,0]\n",
    "docs[2] = [1,1,0,1,0,0]\n",
    "\n",
    "Query = [1,1,0,0,1,0]\n",
    "result = [0,0,0]\n",
    "k =0\n",
    "for row in docs:\n",
    "    \n",
    "    tmp = 0\n",
    "    tmpD = 0\n",
    "    tmpQ = 0\n",
    "    for i in range(6):\n",
    "        tmp += row[i] * Query[i]\n",
    "        tmpQ += Query[i]\n",
    "        tmpD += row[i]\n",
    "    result[k]=tmp/tmpQ*tmpD\n",
    "    k += 1\n",
    "plt.bar(['doc1','doc2','doc3'],result)\n",
    "plt.show()\n"
   ]
  },
  {
   "cell_type": "code",
   "execution_count": null,
   "id": "f8f6a84c",
   "metadata": {},
   "outputs": [],
   "source": []
  }
 ],
 "metadata": {
  "kernelspec": {
   "display_name": "Python 3",
   "language": "python",
   "name": "python3"
  },
  "language_info": {
   "codemirror_mode": {
    "name": "ipython",
    "version": 3
   },
   "file_extension": ".py",
   "mimetype": "text/x-python",
   "name": "python",
   "nbconvert_exporter": "python",
   "pygments_lexer": "ipython3",
   "version": "3.8.5"
  }
 },
 "nbformat": 4,
 "nbformat_minor": 5
}
