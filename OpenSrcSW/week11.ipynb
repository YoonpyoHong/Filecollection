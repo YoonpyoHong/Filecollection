{
 "cells": [
  {
   "cell_type": "code",
   "execution_count": 2,
   "outputs": [],
   "source": [
    "# 실습문제 6\n",
    "if __name__ == \"__main__\":\n",
    "    order, *args = input().split()\n",
    "\n",
    "    if order == \"cp\":\n",
    "        file1 = open(args[0]+'.txt', 'r')\n",
    "        content = file1.read()\n",
    "        file1.close()\n",
    "        file2 = open(args[1]+'.txt', 'w')\n",
    "        file2.write(content)\n",
    "        file2.close()"
   ],
   "metadata": {
    "collapsed": false,
    "pycharm": {
     "name": "#%%\n"
    }
   }
  },
  {
   "cell_type": "code",
   "execution_count": 6,
   "outputs": [],
   "source": [
    "# 실습문제 7\n",
    "if __name__ == \"__main__\":\n",
    "    order, *args = input().split()\n",
    "\n",
    "    if order == \"wc\":\n",
    "        file1 = open(args[0]+'.txt', 'r')\n",
    "        content = file1.readlines()\n",
    "        file1.close()\n",
    "        line_count = 0\n",
    "        word_count = 0\n",
    "        for i in content:\n",
    "            line_count += 1\n",
    "            word = i.split()\n",
    "            word_count += len(word)\n"
   ],
   "metadata": {
    "collapsed": false,
    "pycharm": {
     "name": "#%%\n"
    }
   }
  },
  {
   "cell_type": "code",
   "execution_count": 8,
   "outputs": [
    {
     "name": "stdout",
     "output_type": "stream",
     "text": [
      "1 + 2 = 3 입니다.\n"
     ]
    }
   ],
   "source": [
    "# 실습문제 8\n",
    "class Calc:\n",
    "    def sum(self, a, b):\n",
    "        result = a + b\n",
    "        print(\"{var1} + {var2} = {sum} 입니다.\" .format(var1=a , var2 = b, sum = result))\n",
    "    def sub(self, a, b):\n",
    "        result = a - b\n",
    "        print(\"{var1} - {var2} = {sub} 입니다.\" .format(var1=a , var2 = b, sub = result))\n",
    "    def mul(self, a, b):\n",
    "        result = a * b\n",
    "        print(\"{var1} * {var2} = {mul} 입니다.\" .format(var1=a , var2 = b, mul = result))\n",
    "    def div(self, a, b):\n",
    "        result = a / b\n",
    "        print(\"{var1} / {var2} = {div} 입니다.\" .format(var1=a , var2 = b, div = result))\n",
    "if __name__ == '__main__':\n",
    "    c = Calc()\n",
    "    c.sum(1,2)"
   ],
   "metadata": {
    "collapsed": false,
    "pycharm": {
     "name": "#%%\n"
    }
   }
  },
  {
   "cell_type": "code",
   "execution_count": 18,
   "outputs": [
    {
     "name": "stdout",
     "output_type": "stream",
     "text": [
      "[1]\n",
      "[]\n",
      "[]\n",
      "[4]\n",
      "[]\n",
      "[]\n",
      "[1.0]\n",
      "[]\n",
      "[]\n",
      "[]\n",
      "2.0\n"
     ]
    }
   ],
   "source": [
    "# 실습문제 9\n",
    "class Stack:\n",
    "    def __init__(self):\n",
    "        self.stack = []\n",
    "    def push(self, content):\n",
    "        new_stack = [content]\n",
    "        for i in self.stack:\n",
    "            new_stack.append(i)\n",
    "        self.stack = new_stack\n",
    "    def pop(self):\n",
    "        result = self.stack[0]\n",
    "        if len(self.stack) > 1:\n",
    "            for i in range(1, len(self.stack)):\n",
    "                self.stack[i-1] = self.stack[i]\n",
    "        del(self.stack[-1])\n",
    "        return result\n",
    "class Calc:\n",
    "    def sum(self, a, b):\n",
    "        result = a + b\n",
    "        return result\n",
    "    def sub(self, a, b):\n",
    "        result = a - b\n",
    "        return result\n",
    "    def mul(self, a, b):\n",
    "        result = a * b\n",
    "        return result\n",
    "    def div(self, a, b):\n",
    "        result = a / b\n",
    "        return result\n",
    "\n",
    "if __name__ == \"__main__\":\n",
    "    formula = list(input().split())\n",
    "    c = Calc()\n",
    "    num = Stack()\n",
    "    op = Stack()\n",
    "    i = 0\n",
    "    for i in range(len(formula)):\n",
    "        if i == 0:\n",
    "            num.push(int(formula[i]))\n",
    "        elif i%2 == 1 :\n",
    "            op.push(formula[i])\n",
    "        else:\n",
    "            num.push(int(formula[i]))\n",
    "            num2 = num.pop()\n",
    "            num1 = num.pop()\n",
    "            oper = op.pop()\n",
    "            if oper == '+':\n",
    "                num.push(c.sum(num1,num2))\n",
    "            elif oper == '-':\n",
    "                num.push(c.sub(num1,num2))\n",
    "            elif oper == '*':\n",
    "                num.push(c.mul(num1,num2))\n",
    "            elif oper == '/':\n",
    "                num.push(c.div(num1,num2))\n",
    "\n",
    "    print(num.pop())\n"
   ],
   "metadata": {
    "collapsed": false,
    "pycharm": {
     "name": "#%%\n"
    }
   }
  }
 ],
 "metadata": {
  "kernelspec": {
   "display_name": "Python 3",
   "language": "python",
   "name": "python3"
  },
  "language_info": {
   "codemirror_mode": {
    "name": "ipython",
    "version": 2
   },
   "file_extension": ".py",
   "mimetype": "text/x-python",
   "name": "python",
   "nbconvert_exporter": "python",
   "pygments_lexer": "ipython2",
   "version": "2.7.6"
  }
 },
 "nbformat": 4,
 "nbformat_minor": 0
}