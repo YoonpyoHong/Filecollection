{
 "cells": [
  {
   "cell_type": "code",
   "execution_count": 23,
   "id": "38c4009a",
   "metadata": {},
   "outputs": [
    {
     "name": "stdout",
     "output_type": "stream",
     "text": [
      "일교차가 가장 큰 날\n",
      "2020-05-06\n",
      "최저기온이 가장 낮은 날\n",
      "2020-12-30\n",
      "최고기온이 가장 높은 날\n",
      "2020-08-26\n"
     ]
    }
   ],
   "source": [
    "import csv\n",
    "f = open('seoul.csv', 'r', encoding= 'cp949')\n",
    "data = csv.reader(f, delimiter=',')\n",
    "for i in range(8):\n",
    "    header += next(data)\n",
    "\n",
    "max_change = 0\n",
    "max_change_date = ''\n",
    "max_high = -30\n",
    "max_high_date = ''\n",
    "max_low = 40\n",
    "max_low_date = ''\n",
    "\n",
    "for row in data:\n",
    "    if row != []:\n",
    "        high = float(row[3])\n",
    "        low = float(row[4])\n",
    "        change=float(row[4])-float(row[3])\n",
    "        if max_change < change:\n",
    "            max_change = change\n",
    "            max_change_date = row[0]\n",
    "        if max_low > low:\n",
    "            max_low = low\n",
    "            max_low_date = row[0] \n",
    "        if max_high < high:\n",
    "            max_high = high\n",
    "            max_high_date = row[0]\n",
    "\n",
    "print(\"일교차가 가장 큰 날\")\n",
    "print(max_change_date)\n",
    "print(\"최저기온이 가장 낮은 날\")\n",
    "print(max_low_date)\n",
    "print(\"최고기온이 가장 높은 날\")\n",
    "print(max_high_date)\n",
    "f.close()"
   ]
  },
  {
   "cell_type": "code",
   "execution_count": 35,
   "id": "e13aa8c0",
   "metadata": {},
   "outputs": [
    {
     "name": "stdout",
     "output_type": "stream",
     "text": [
      "이용객이 가장 많은 역순위\n",
      "1.강남(3167883)\n",
      "2.신림(2799927)\n",
      "3.잠실(송파구청)(2669433)\n",
      "이용객이 가장 적은 역순위\n",
      "1.계양(2)\n",
      "2.신내(3)\n",
      "3.지축(4)\n"
     ]
    }
   ],
   "source": [
    "import csv\n",
    "f = open('subway.csv', 'r', encoding= 'utf-8')\n",
    "data = csv.reader(f, delimiter=',')\n",
    "header = next(data)\n",
    "high_user= [0, 0, 0]\n",
    "high_user_name = ['','','']\n",
    "low_user = [10000000, 10000000, 10000000]\n",
    "low_user_name = ['','','']\n",
    "\n",
    "for row in data:\n",
    "    user = 0\n",
    "    user = int(row[-1].replace(',','')) + int(row[-2].replace(',',''))\n",
    "    if user > high_user[2]:\n",
    "        if user > high_user[1]:\n",
    "            if user > high_user[0]:\n",
    "                high_user[2] = high_user[1]\n",
    "                high_user[1] = high_user[0]\n",
    "                high_user[0] = user\n",
    "                high_user_name[2] = high_user_name[1]\n",
    "                high_user_name[1] = high_user_name[0]\n",
    "                high_user_name[0] = row[3]\n",
    "            else:\n",
    "                high_user[2] = high_user[1]\n",
    "                high_user[1] = user\n",
    "                high_user_name[2] = high_user_name[1]\n",
    "                high_user_name[1] = row[3]\n",
    "        else:\n",
    "            high_user[2] = user\n",
    "            high_user_name[2] = row[3]\n",
    "    if user < low_user[2]:\n",
    "        if user < low_user[1]:\n",
    "            if user < low_user[0]:\n",
    "                low_user[2] = low_user[1]\n",
    "                low_user[1] = low_user[0]\n",
    "                low_user[0] = user\n",
    "                low_user_name[2] = low_user_name[1]\n",
    "                low_user_name[1] = low_user_name[0]\n",
    "                low_user_name[0] = row[3]\n",
    "            else:\n",
    "                low_user[2] = low_user[1]\n",
    "                low_user[1] = user\n",
    "                low_user_name[2] = low_user_name[1]\n",
    "                low_user_name[1] = row[3]\n",
    "        else:\n",
    "            low_user[2] = user\n",
    "            low_user_name[2] = row[3]\n",
    "print(\"이용객이 가장 많은 역순위\")\n",
    "print(\"1.{0}({1})\".format(high_user_name[0],high_user[0]))\n",
    "print(\"2.{0}({1})\".format(high_user_name[1],high_user[1]))\n",
    "print(\"3.{0}({1})\".format(high_user_name[2],high_user[2]))\n",
    "print(\"이용객이 가장 적은 역순위\")\n",
    "print(\"1.{0}({1})\".format(low_user_name[0],low_user[0]))\n",
    "print(\"2.{0}({1})\".format(low_user_name[1],low_user[1]))\n",
    "print(\"3.{0}({1})\".format(low_user_name[2],low_user[2]))\n",
    "f.close()"
   ]
  },
  {
   "cell_type": "code",
   "execution_count": null,
   "id": "65dfc26c",
   "metadata": {},
   "outputs": [],
   "source": []
  }
 ],
 "metadata": {
  "kernelspec": {
   "display_name": "Python 3",
   "language": "python",
   "name": "python3"
  },
  "language_info": {
   "codemirror_mode": {
    "name": "ipython",
    "version": 3
   },
   "file_extension": ".py",
   "mimetype": "text/x-python",
   "name": "python",
   "nbconvert_exporter": "python",
   "pygments_lexer": "ipython3",
   "version": "3.8.8"
  }
 },
 "nbformat": 4,
 "nbformat_minor": 5
}
